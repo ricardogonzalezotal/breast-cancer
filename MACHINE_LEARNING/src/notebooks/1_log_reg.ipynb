{
 "cells": [
  {
   "cell_type": "markdown",
   "metadata": {},
   "source": [
    "## Regresión Logística\n"
   ]
  },
  {
   "cell_type": "code",
   "execution_count": 1,
   "metadata": {},
   "outputs": [],
   "source": [
    "import pandas as pd\n",
    "import numpy as np\n",
    "import matplotlib.pyplot as plt\n",
    "import seaborn as sns\n",
    "import sklearn\n",
    "from sklearn.metrics import roc_curve, auc\n",
    "from sklearn.model_selection import train_test_split\n",
    "from sklearn.model_selection import GridSearchCV, cross_val_score\n",
    "from sklearn.linear_model import LogisticRegression\n",
    "from sklearn.tree import DecisionTreeClassifier\n",
    "from sklearn.ensemble import RandomForestClassifier\n",
    "from sklearn.metrics import accuracy_score, classification_report\n",
    "from sklearn.metrics import confusion_matrix\n",
    "\n",
    "%run \"../util/funciones.ipynb\""
   ]
  },
  {
   "cell_type": "markdown",
   "metadata": {},
   "source": [
    "Carga de datos"
   ]
  },
  {
   "cell_type": "code",
   "execution_count": 2,
   "metadata": {},
   "outputs": [
    {
     "data": {
      "text/html": [
       "<div>\n",
       "<style scoped>\n",
       "    .dataframe tbody tr th:only-of-type {\n",
       "        vertical-align: middle;\n",
       "    }\n",
       "\n",
       "    .dataframe tbody tr th {\n",
       "        vertical-align: top;\n",
       "    }\n",
       "\n",
       "    .dataframe thead th {\n",
       "        text-align: right;\n",
       "    }\n",
       "</style>\n",
       "<table border=\"1\" class=\"dataframe\">\n",
       "  <thead>\n",
       "    <tr style=\"text-align: right;\">\n",
       "      <th></th>\n",
       "      <th>perimeter_worst</th>\n",
       "      <th>area_worst</th>\n",
       "      <th>radius_worst</th>\n",
       "      <th>perimeter_mean</th>\n",
       "      <th>radius_mean</th>\n",
       "      <th>area_se</th>\n",
       "      <th>area_mean</th>\n",
       "      <th>perimeter_se</th>\n",
       "      <th>texture_worst</th>\n",
       "      <th>texture_mean</th>\n",
       "      <th>radius_se</th>\n",
       "      <th>concavity_worst</th>\n",
       "      <th>compactness_worst</th>\n",
       "      <th>concave points_worst</th>\n",
       "      <th>diagnosis</th>\n",
       "    </tr>\n",
       "  </thead>\n",
       "  <tbody>\n",
       "    <tr>\n",
       "      <th>0</th>\n",
       "      <td>99.70</td>\n",
       "      <td>711.2</td>\n",
       "      <td>15.110</td>\n",
       "      <td>87.46</td>\n",
       "      <td>13.540</td>\n",
       "      <td>23.560</td>\n",
       "      <td>566.3</td>\n",
       "      <td>2.058</td>\n",
       "      <td>19.26</td>\n",
       "      <td>14.36</td>\n",
       "      <td>0.2699</td>\n",
       "      <td>0.23900</td>\n",
       "      <td>0.17730</td>\n",
       "      <td>0.12880</td>\n",
       "      <td>0</td>\n",
       "    </tr>\n",
       "    <tr>\n",
       "      <th>1</th>\n",
       "      <td>96.09</td>\n",
       "      <td>630.5</td>\n",
       "      <td>14.500</td>\n",
       "      <td>85.63</td>\n",
       "      <td>13.080</td>\n",
       "      <td>14.670</td>\n",
       "      <td>520.0</td>\n",
       "      <td>1.383</td>\n",
       "      <td>20.49</td>\n",
       "      <td>15.71</td>\n",
       "      <td>0.1852</td>\n",
       "      <td>0.18900</td>\n",
       "      <td>0.27760</td>\n",
       "      <td>0.07283</td>\n",
       "      <td>0</td>\n",
       "    </tr>\n",
       "    <tr>\n",
       "      <th>2</th>\n",
       "      <td>65.13</td>\n",
       "      <td>314.9</td>\n",
       "      <td>10.230</td>\n",
       "      <td>60.34</td>\n",
       "      <td>9.504</td>\n",
       "      <td>15.700</td>\n",
       "      <td>273.9</td>\n",
       "      <td>1.909</td>\n",
       "      <td>15.66</td>\n",
       "      <td>12.44</td>\n",
       "      <td>0.2773</td>\n",
       "      <td>0.08867</td>\n",
       "      <td>0.11480</td>\n",
       "      <td>0.06227</td>\n",
       "      <td>0</td>\n",
       "    </tr>\n",
       "    <tr>\n",
       "      <th>3</th>\n",
       "      <td>84.46</td>\n",
       "      <td>545.9</td>\n",
       "      <td>13.300</td>\n",
       "      <td>82.61</td>\n",
       "      <td>13.030</td>\n",
       "      <td>14.160</td>\n",
       "      <td>523.8</td>\n",
       "      <td>1.170</td>\n",
       "      <td>22.81</td>\n",
       "      <td>18.42</td>\n",
       "      <td>0.1839</td>\n",
       "      <td>0.04833</td>\n",
       "      <td>0.04619</td>\n",
       "      <td>0.05013</td>\n",
       "      <td>0</td>\n",
       "    </tr>\n",
       "    <tr>\n",
       "      <th>4</th>\n",
       "      <td>57.26</td>\n",
       "      <td>242.2</td>\n",
       "      <td>8.964</td>\n",
       "      <td>51.71</td>\n",
       "      <td>8.196</td>\n",
       "      <td>8.205</td>\n",
       "      <td>201.9</td>\n",
       "      <td>1.094</td>\n",
       "      <td>21.96</td>\n",
       "      <td>16.84</td>\n",
       "      <td>0.1563</td>\n",
       "      <td>0.06880</td>\n",
       "      <td>0.13570</td>\n",
       "      <td>0.02564</td>\n",
       "      <td>0</td>\n",
       "    </tr>\n",
       "    <tr>\n",
       "      <th>5</th>\n",
       "      <td>89.88</td>\n",
       "      <td>582.6</td>\n",
       "      <td>13.760</td>\n",
       "      <td>78.04</td>\n",
       "      <td>12.050</td>\n",
       "      <td>19.870</td>\n",
       "      <td>449.3</td>\n",
       "      <td>1.848</td>\n",
       "      <td>20.70</td>\n",
       "      <td>14.63</td>\n",
       "      <td>0.2636</td>\n",
       "      <td>0.30500</td>\n",
       "      <td>0.21560</td>\n",
       "      <td>0.06548</td>\n",
       "      <td>0</td>\n",
       "    </tr>\n",
       "    <tr>\n",
       "      <th>6</th>\n",
       "      <td>99.00</td>\n",
       "      <td>698.8</td>\n",
       "      <td>15.150</td>\n",
       "      <td>86.91</td>\n",
       "      <td>13.490</td>\n",
       "      <td>20.200</td>\n",
       "      <td>561.0</td>\n",
       "      <td>1.735</td>\n",
       "      <td>31.82</td>\n",
       "      <td>22.30</td>\n",
       "      <td>0.2338</td>\n",
       "      <td>0.22820</td>\n",
       "      <td>0.17110</td>\n",
       "      <td>0.12820</td>\n",
       "      <td>0</td>\n",
       "    </tr>\n",
       "    <tr>\n",
       "      <th>7</th>\n",
       "      <td>82.98</td>\n",
       "      <td>516.5</td>\n",
       "      <td>12.980</td>\n",
       "      <td>74.72</td>\n",
       "      <td>11.760</td>\n",
       "      <td>28.470</td>\n",
       "      <td>427.9</td>\n",
       "      <td>2.635</td>\n",
       "      <td>25.72</td>\n",
       "      <td>21.60</td>\n",
       "      <td>0.4062</td>\n",
       "      <td>0.05523</td>\n",
       "      <td>0.08615</td>\n",
       "      <td>0.03715</td>\n",
       "      <td>0</td>\n",
       "    </tr>\n",
       "    <tr>\n",
       "      <th>8</th>\n",
       "      <td>96.08</td>\n",
       "      <td>656.7</td>\n",
       "      <td>14.670</td>\n",
       "      <td>87.21</td>\n",
       "      <td>13.640</td>\n",
       "      <td>14.550</td>\n",
       "      <td>571.8</td>\n",
       "      <td>1.449</td>\n",
       "      <td>23.19</td>\n",
       "      <td>16.34</td>\n",
       "      <td>0.1872</td>\n",
       "      <td>0.10500</td>\n",
       "      <td>0.15820</td>\n",
       "      <td>0.08586</td>\n",
       "      <td>0</td>\n",
       "    </tr>\n",
       "    <tr>\n",
       "      <th>9</th>\n",
       "      <td>83.67</td>\n",
       "      <td>527.2</td>\n",
       "      <td>13.100</td>\n",
       "      <td>75.71</td>\n",
       "      <td>11.940</td>\n",
       "      <td>17.470</td>\n",
       "      <td>437.6</td>\n",
       "      <td>1.520</td>\n",
       "      <td>21.33</td>\n",
       "      <td>18.24</td>\n",
       "      <td>0.2273</td>\n",
       "      <td>0.09203</td>\n",
       "      <td>0.08906</td>\n",
       "      <td>0.06296</td>\n",
       "      <td>0</td>\n",
       "    </tr>\n",
       "  </tbody>\n",
       "</table>\n",
       "</div>"
      ],
      "text/plain": [
       "   perimeter_worst  area_worst  radius_worst  perimeter_mean  radius_mean  \\\n",
       "0            99.70       711.2        15.110           87.46       13.540   \n",
       "1            96.09       630.5        14.500           85.63       13.080   \n",
       "2            65.13       314.9        10.230           60.34        9.504   \n",
       "3            84.46       545.9        13.300           82.61       13.030   \n",
       "4            57.26       242.2         8.964           51.71        8.196   \n",
       "5            89.88       582.6        13.760           78.04       12.050   \n",
       "6            99.00       698.8        15.150           86.91       13.490   \n",
       "7            82.98       516.5        12.980           74.72       11.760   \n",
       "8            96.08       656.7        14.670           87.21       13.640   \n",
       "9            83.67       527.2        13.100           75.71       11.940   \n",
       "\n",
       "   area_se  area_mean  perimeter_se  texture_worst  texture_mean  radius_se  \\\n",
       "0   23.560      566.3         2.058          19.26         14.36     0.2699   \n",
       "1   14.670      520.0         1.383          20.49         15.71     0.1852   \n",
       "2   15.700      273.9         1.909          15.66         12.44     0.2773   \n",
       "3   14.160      523.8         1.170          22.81         18.42     0.1839   \n",
       "4    8.205      201.9         1.094          21.96         16.84     0.1563   \n",
       "5   19.870      449.3         1.848          20.70         14.63     0.2636   \n",
       "6   20.200      561.0         1.735          31.82         22.30     0.2338   \n",
       "7   28.470      427.9         2.635          25.72         21.60     0.4062   \n",
       "8   14.550      571.8         1.449          23.19         16.34     0.1872   \n",
       "9   17.470      437.6         1.520          21.33         18.24     0.2273   \n",
       "\n",
       "   concavity_worst  compactness_worst  concave points_worst  diagnosis  \n",
       "0          0.23900            0.17730               0.12880          0  \n",
       "1          0.18900            0.27760               0.07283          0  \n",
       "2          0.08867            0.11480               0.06227          0  \n",
       "3          0.04833            0.04619               0.05013          0  \n",
       "4          0.06880            0.13570               0.02564          0  \n",
       "5          0.30500            0.21560               0.06548          0  \n",
       "6          0.22820            0.17110               0.12820          0  \n",
       "7          0.05523            0.08615               0.03715          0  \n",
       "8          0.10500            0.15820               0.08586          0  \n",
       "9          0.09203            0.08906               0.06296          0  "
      ]
     },
     "execution_count": 2,
     "metadata": {},
     "output_type": "execute_result"
    }
   ],
   "source": [
    "#Carga de datos\n",
    "df=pd.read_csv('../data/processed/cancer_limpio.csv')\n",
    "df.head(10)"
   ]
  },
  {
   "cell_type": "markdown",
   "metadata": {},
   "source": [
    "Train & Test"
   ]
  },
  {
   "cell_type": "code",
   "execution_count": 3,
   "metadata": {},
   "outputs": [],
   "source": [
    "X = df.drop('diagnosis',axis=1)\n",
    "y = df['diagnosis']\n",
    "\n",
    "x_train, x_test, y_train, y_test = train_test_split(X,\n",
    "                                                   y,\n",
    "                                                   test_size = 0.25,\n",
    "                                                   random_state=42)"
   ]
  },
  {
   "cell_type": "code",
   "execution_count": 4,
   "metadata": {},
   "outputs": [],
   "source": [
    "from sklearn.preprocessing import StandardScaler\n",
    "\n",
    "scaler = StandardScaler()\n",
    "x_train_scaled = scaler.fit_transform(x_train)\n",
    "x_test_scaled = scaler.transform(x_test)"
   ]
  },
  {
   "cell_type": "markdown",
   "metadata": {},
   "source": [
    "LogisticRegression"
   ]
  },
  {
   "cell_type": "code",
   "execution_count": 5,
   "metadata": {},
   "outputs": [
    {
     "data": {
      "text/html": [
       "<style>#sk-container-id-1 {color: black;}#sk-container-id-1 pre{padding: 0;}#sk-container-id-1 div.sk-toggleable {background-color: white;}#sk-container-id-1 label.sk-toggleable__label {cursor: pointer;display: block;width: 100%;margin-bottom: 0;padding: 0.3em;box-sizing: border-box;text-align: center;}#sk-container-id-1 label.sk-toggleable__label-arrow:before {content: \"▸\";float: left;margin-right: 0.25em;color: #696969;}#sk-container-id-1 label.sk-toggleable__label-arrow:hover:before {color: black;}#sk-container-id-1 div.sk-estimator:hover label.sk-toggleable__label-arrow:before {color: black;}#sk-container-id-1 div.sk-toggleable__content {max-height: 0;max-width: 0;overflow: hidden;text-align: left;background-color: #f0f8ff;}#sk-container-id-1 div.sk-toggleable__content pre {margin: 0.2em;color: black;border-radius: 0.25em;background-color: #f0f8ff;}#sk-container-id-1 input.sk-toggleable__control:checked~div.sk-toggleable__content {max-height: 200px;max-width: 100%;overflow: auto;}#sk-container-id-1 input.sk-toggleable__control:checked~label.sk-toggleable__label-arrow:before {content: \"▾\";}#sk-container-id-1 div.sk-estimator input.sk-toggleable__control:checked~label.sk-toggleable__label {background-color: #d4ebff;}#sk-container-id-1 div.sk-label input.sk-toggleable__control:checked~label.sk-toggleable__label {background-color: #d4ebff;}#sk-container-id-1 input.sk-hidden--visually {border: 0;clip: rect(1px 1px 1px 1px);clip: rect(1px, 1px, 1px, 1px);height: 1px;margin: -1px;overflow: hidden;padding: 0;position: absolute;width: 1px;}#sk-container-id-1 div.sk-estimator {font-family: monospace;background-color: #f0f8ff;border: 1px dotted black;border-radius: 0.25em;box-sizing: border-box;margin-bottom: 0.5em;}#sk-container-id-1 div.sk-estimator:hover {background-color: #d4ebff;}#sk-container-id-1 div.sk-parallel-item::after {content: \"\";width: 100%;border-bottom: 1px solid gray;flex-grow: 1;}#sk-container-id-1 div.sk-label:hover label.sk-toggleable__label {background-color: #d4ebff;}#sk-container-id-1 div.sk-serial::before {content: \"\";position: absolute;border-left: 1px solid gray;box-sizing: border-box;top: 0;bottom: 0;left: 50%;z-index: 0;}#sk-container-id-1 div.sk-serial {display: flex;flex-direction: column;align-items: center;background-color: white;padding-right: 0.2em;padding-left: 0.2em;position: relative;}#sk-container-id-1 div.sk-item {position: relative;z-index: 1;}#sk-container-id-1 div.sk-parallel {display: flex;align-items: stretch;justify-content: center;background-color: white;position: relative;}#sk-container-id-1 div.sk-item::before, #sk-container-id-1 div.sk-parallel-item::before {content: \"\";position: absolute;border-left: 1px solid gray;box-sizing: border-box;top: 0;bottom: 0;left: 50%;z-index: -1;}#sk-container-id-1 div.sk-parallel-item {display: flex;flex-direction: column;z-index: 1;position: relative;background-color: white;}#sk-container-id-1 div.sk-parallel-item:first-child::after {align-self: flex-end;width: 50%;}#sk-container-id-1 div.sk-parallel-item:last-child::after {align-self: flex-start;width: 50%;}#sk-container-id-1 div.sk-parallel-item:only-child::after {width: 0;}#sk-container-id-1 div.sk-dashed-wrapped {border: 1px dashed gray;margin: 0 0.4em 0.5em 0.4em;box-sizing: border-box;padding-bottom: 0.4em;background-color: white;}#sk-container-id-1 div.sk-label label {font-family: monospace;font-weight: bold;display: inline-block;line-height: 1.2em;}#sk-container-id-1 div.sk-label-container {text-align: center;}#sk-container-id-1 div.sk-container {/* jupyter's `normalize.less` sets `[hidden] { display: none; }` but bootstrap.min.css set `[hidden] { display: none !important; }` so we also need the `!important` here to be able to override the default hidden behavior on the sphinx rendered scikit-learn.org. See: https://github.com/scikit-learn/scikit-learn/issues/21755 */display: inline-block !important;position: relative;}#sk-container-id-1 div.sk-text-repr-fallback {display: none;}</style><div id=\"sk-container-id-1\" class=\"sk-top-container\"><div class=\"sk-text-repr-fallback\"><pre>LogisticRegression(max_iter=1000)</pre><b>In a Jupyter environment, please rerun this cell to show the HTML representation or trust the notebook. <br />On GitHub, the HTML representation is unable to render, please try loading this page with nbviewer.org.</b></div><div class=\"sk-container\" hidden><div class=\"sk-item\"><div class=\"sk-estimator sk-toggleable\"><input class=\"sk-toggleable__control sk-hidden--visually\" id=\"sk-estimator-id-1\" type=\"checkbox\" checked><label for=\"sk-estimator-id-1\" class=\"sk-toggleable__label sk-toggleable__label-arrow\">LogisticRegression</label><div class=\"sk-toggleable__content\"><pre>LogisticRegression(max_iter=1000)</pre></div></div></div></div></div>"
      ],
      "text/plain": [
       "LogisticRegression(max_iter=1000)"
      ]
     },
     "execution_count": 5,
     "metadata": {},
     "output_type": "execute_result"
    }
   ],
   "source": [
    "log_reg = LogisticRegression(max_iter=1000)\n",
    "log_reg.fit(x_train_scaled, y_train)"
   ]
  },
  {
   "cell_type": "code",
   "execution_count": 6,
   "metadata": {},
   "outputs": [
    {
     "name": "stdout",
     "output_type": "stream",
     "text": [
      "              precision    recall  f1-score   support\n",
      "\n",
      "           0       0.95      0.99      0.97       279\n",
      "           1       0.97      0.90      0.93       148\n",
      "\n",
      "    accuracy                           0.96       427\n",
      "   macro avg       0.96      0.94      0.95       427\n",
      "weighted avg       0.96      0.96      0.96       427\n",
      "\n"
     ]
    }
   ],
   "source": [
    "predicciones_log_reg = log_reg.predict(x_test_scaled)\n",
    "print(classification_report(y_test, predicciones_log_reg))"
   ]
  },
  {
   "cell_type": "code",
   "execution_count": 7,
   "metadata": {},
   "outputs": [
    {
     "data": {
      "text/plain": [
       "0.955503512880562"
      ]
     },
     "execution_count": 7,
     "metadata": {},
     "output_type": "execute_result"
    }
   ],
   "source": [
    "log_reg.score(x_test_scaled, y_test)"
   ]
  },
  {
   "cell_type": "code",
   "execution_count": 8,
   "metadata": {},
   "outputs": [
    {
     "data": {
      "text/plain": [
       "array([[ 3.85247796,  3.52400141,  0.85435531, -0.87969506, -1.16075623,\n",
       "         1.84381123, -1.05817519, -0.21542206,  1.10441009, -0.87592452,\n",
       "        -0.08944149,  0.11004864,  0.24336543, -0.09665824]])"
      ]
     },
     "execution_count": 8,
     "metadata": {},
     "output_type": "execute_result"
    }
   ],
   "source": [
    "log_reg.coef_"
   ]
  },
  {
   "cell_type": "code",
   "execution_count": 9,
   "metadata": {},
   "outputs": [
    {
     "name": "stdout",
     "output_type": "stream",
     "text": [
      "Resultados validacion cruzada:\n",
      "rendimiento medio f1 : 0.9372767569207733\n",
      "rendimiento medio precision : 0.9737584970955384\n",
      "rendimiento medio accuracy : 0.95390625\n",
      "rendimiento medio recall : 0.9037450031559017\n"
     ]
    }
   ],
   "source": [
    "#Resultados de la validacion cruzada\n",
    "score = ['f1','precision','accuracy','recall']\n",
    "print('Resultados validacion cruzada:')\n",
    "for sc in score:\n",
    "    rendimiento_log_reg = cross_val_score(log_reg, x_train_scaled, y_train, cv=5, scoring=sc)\n",
    "    rendimiento_medio_log_reg = rendimiento_log_reg.mean()\n",
    "\n",
    "    print('rendimiento medio',sc,':',rendimiento_medio_log_reg)"
   ]
  },
  {
   "cell_type": "code",
   "execution_count": 10,
   "metadata": {},
   "outputs": [
    {
     "name": "stdout",
     "output_type": "stream",
     "text": [
      "[[275   4]\n",
      " [ 15 133]]\n"
     ]
    },
    {
     "data": {
      "image/png": "[encoded data removed]",
      "text/plain": [
       "<Figure size 640x480 with 2 Axes>"
      ]
     },
     "metadata": {},
     "output_type": "display_data"
    }
   ],
   "source": [
    "c_matrix_log_reg = confusion_matrix(y_test, predicciones_log_reg)\n",
    "sns.heatmap(c_matrix_log_reg, annot=True)\n",
    "print(c_matrix_log_reg)"
   ]
  },
  {
   "cell_type": "code",
   "execution_count": 11,
   "metadata": {},
   "outputs": [
    {
     "data": {
      "image/png": "[encoded data removed]",
      "text/plain": [
       "<Figure size 640x480 with 2 Axes>"
      ]
     },
     "metadata": {},
     "output_type": "display_data"
    }
   ],
   "source": [
    "matriz_porcentajes(c_matrix_log_reg)"
   ]
  },
  {
   "cell_type": "code",
   "execution_count": 12,
   "metadata": {},
   "outputs": [
    {
     "data": {
      "image/png": "[encoded data removed]",
      "text/plain": [
       "<Figure size 800x600 with 1 Axes>"
      ]
     },
     "metadata": {},
     "output_type": "display_data"
    }
   ],
   "source": [
    "curva_ROC('log_reg',log_reg,x_test_scaled,y_test)"
   ]
  },
  {
   "cell_type": "markdown",
   "metadata": {},
   "source": [
    "Regresión logística con Grid y Validación cruzada"
   ]
  },
  {
   "cell_type": "code",
   "execution_count": 13,
   "metadata": {},
   "outputs": [
    {
     "name": "stdout",
     "output_type": "stream",
     "text": [
      "Resultado validacion cruzada:\n",
      "rendimiento medio f1 : 0.9372767569207733\n",
      "rendimiento medio precision : 0.9737584970955384\n",
      "rendimiento medio accuracy : 0.95390625\n",
      "rendimiento medio recall : 0.9037450031559017\n",
      "mejores parametros: {'max_iter': 1000}\n"
     ]
    }
   ],
   "source": [
    "param_grid = {'max_iter':[1000,2000,3000]}\n",
    "\n",
    "grid_search = GridSearchCV(log_reg, param_grid, cv=5)\n",
    "grid_search.fit(x_train_scaled, y_train)\n",
    "mejores_parametros_log_reg = grid_search.best_params_\n",
    "mejor_modelo_log_reg_grid = grid_search.best_estimator_\n",
    "print('Resultado validacion cruzada:')\n",
    "for sc in score:\n",
    "    rendimiento_log_reg_grid = cross_val_score(mejor_modelo_log_reg_grid, x_train_scaled, y_train, cv=5, scoring= sc)\n",
    "    rendimiento_medio_log_reg = rendimiento_log_reg_grid.mean()\n",
    "\n",
    "    print('rendimiento medio',sc,':',rendimiento_medio_log_reg)\n",
    "print('mejores parametros:',mejores_parametros_log_reg)"
   ]
  },
  {
   "cell_type": "markdown",
   "metadata": {},
   "source": [
    "Guardamos modelo"
   ]
  },
  {
   "cell_type": "code",
   "execution_count": 14,
   "metadata": {},
   "outputs": [],
   "source": [
    "import pickle\n",
    "\n",
    "with open('../model/modelo_logistico.pkl', 'wb') as archivo:\n",
    "    pickle.dump(log_reg, archivo)\n"
   ]
  },
  {
   "cell_type": "code",
   "execution_count": 15,
   "metadata": {},
   "outputs": [],
   "source": [
    "with open('../model/modelo_logisticoGrid.pkl', 'wb') as archivo:\n",
    "    pickle.dump(mejor_modelo_log_reg, archivo)\n"
   ]
  }
 ],
 "metadata": {
  "kernelspec": {
   "display_name": "Python 3",
   "language": "python",
   "name": "python3"
  },
  "language_info": {
   "codemirror_mode": {
    "name": "ipython",
    "version": 3
   },
   "file_extension": ".py",
   "mimetype": "text/x-python",
   "name": "python",
   "nbconvert_exporter": "python",
   "pygments_lexer": "ipython3",
   "version": "3.10.9"
  }
 },
 "nbformat": 4,
 "nbformat_minor": 2
}
