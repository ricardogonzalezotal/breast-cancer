{
 "cells": [
  {
   "cell_type": "code",
   "execution_count": 5,
   "metadata": {},
   "outputs": [],
   "source": [
    "import pandas as pd\n",
    "import numpy as np\n",
    "import matplotlib.pyplot as plt\n",
    "import seaborn as sns\n",
    "import sklearn\n",
    "from sklearn.metrics import roc_curve, auc\n",
    "from sklearn.model_selection import train_test_split\n",
    "from sklearn.model_selection import GridSearchCV, cross_val_score\n",
    "from sklearn.linear_model import LogisticRegression\n",
    "from sklearn.tree import DecisionTreeClassifier\n",
    "from sklearn.ensemble import RandomForestClassifier\n",
    "from sklearn.metrics import accuracy_score, classification_report\n",
    "from sklearn.metrics import confusion_matrix\n",
    "\n",
    "\n"
   ]
  },
  {
   "cell_type": "code",
   "execution_count": 6,
   "metadata": {},
   "outputs": [],
   "source": [
    "\n",
    "def curva_ROC(model_name,model,x_test,y_test):\n",
    "    \"\"\"\n",
    "    Genera y muestra la curva ROC para un modelo de clasificación.\n",
    "\n",
    "    Esta función toma un nombre de modelo, un modelo de clasificación de scikit-learn,\n",
    "    y conjuntos de datos de prueba, y genera la curva ROC para evaluar el rendimiento del modelo.\n",
    "\n",
    "    :param model_name: El nombre del modelo.\n",
    "    :type model_name: str\n",
    "\n",
    "    :param modelo: El modelo de clasificación de scikit-learn.\n",
    "    :type modelo: sklearn.base.BaseEstimator\n",
    "\n",
    "    :param x_test: Conjunto de datos de prueba (características).\n",
    "    :type x_test: pandas.DataFrame or numpy.ndarray\n",
    "\n",
    "    :param y_test: Conjunto de datos de prueba (etiquetas).\n",
    "    :type y_test: pandas.Series or numpy.ndarray\n",
    "\n",
    "    :return: None\n",
    "    \"\"\"\n",
    "    \n",
    "    # Obtener las probabilidades de predicción para la clase positiva\n",
    "    y_prob_dt = model.predict_proba(x_test)[:, 1]\n",
    "\n",
    "    # Calcular la curva ROC\n",
    "    fpr_dt, tpr_dt, _ = roc_curve(y_test, y_prob_dt)\n",
    "    roc_auc_dt = auc(fpr_dt, tpr_dt)\n",
    "\n",
    "    # Dibujar la curva ROC\n",
    "    plt.figure(figsize=(8, 6))\n",
    "    plt.plot(fpr_dt, tpr_dt, color='green', lw=2, label='ROC curve (area = {:.2f})'.format(roc_auc_dt))\n",
    "    plt.plot([0, 1], [0, 1], color='navy', lw=2, linestyle='--')\n",
    "    plt.xlabel('False Positive Rate')\n",
    "    plt.ylabel('True Positive Rate')\n",
    "    plt.title('Receiver Operating Characteristic - {}'.format(model_name))\n",
    "    plt.legend(loc='lower right')"
   ]
  },
  {
   "cell_type": "code",
   "execution_count": 7,
   "metadata": {},
   "outputs": [],
   "source": [
    "def matriz_porcentajes(c_matrix):\n",
    "    \"\"\"\n",
    "    Genera y muestra los procentajes de la matriz de confusión.\n",
    "\n",
    "    Esta función toma la matriz de confusión, cambia los valores a porcentajes,\n",
    "    y genera el grafico de heatmap.\n",
    "\n",
    "    :param c_matrix: matriz de confusion.\n",
    "    :type model_name: numpy matrix\n",
    "        \n",
    "    :return: None\n",
    "    \"\"\"   \n",
    "    # Calcular porcentajes en lugar de contar\n",
    "    cm_percentage = c_matrix.astype('float') / c_matrix.sum(axis=1)[:, np.newaxis] * 100.0\n",
    "\n",
    "    # Crear un heatmap con seaborn\n",
    "    \n",
    "    sns.heatmap(cm_percentage, annot=True, fmt=\".1f\", cmap=\"Blues\", square=True, cbar_kws={\"shrink\": 0.8})\n",
    "    plt.xlabel('Etiquetas Predichas')\n",
    "    plt.ylabel('Etiquetas Reales')\n",
    "    plt.title('Matriz de Confusión con Porcentajes')\n"
   ]
  },
  {
   "cell_type": "code",
   "execution_count": null,
   "metadata": {},
   "outputs": [],
   "source": []
  }
 ],
 "metadata": {
  "kernelspec": {
   "display_name": "Python 3",
   "language": "python",
   "name": "python3"
  },
  "language_info": {
   "codemirror_mode": {
    "name": "ipython",
    "version": 3
   },
   "file_extension": ".py",
   "mimetype": "text/x-python",
   "name": "python",
   "nbconvert_exporter": "python",
   "pygments_lexer": "ipython3",
   "version": "3.10.9"
  }
 },
 "nbformat": 4,
 "nbformat_minor": 2
}
